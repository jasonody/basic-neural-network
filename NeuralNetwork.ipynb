{
 "cells": [
  {
   "cell_type": "code",
   "execution_count": 1,
   "metadata": {
    "collapsed": true
   },
   "outputs": [],
   "source": [
    "import numpy\n",
    "# scipy.special for the sigmoid function expit()\n",
    "import scipy.special\n",
    "# library for plotting arrays\n",
    "import matplotlib.pyplot\n",
    "%matplotlib inline\n",
    "# scipy.misc for loading png images\n",
    "import scipy.misc\n",
    "# scipy.ndimage for rotating images\n",
    "import scipy.ndimage"
   ]
  },
  {
   "cell_type": "code",
   "execution_count": 2,
   "metadata": {
    "collapsed": true
   },
   "outputs": [],
   "source": [
    "class neuralNetwork:\n",
    "    WIH_FILENAME = \"wih.csv\"\n",
    "    WHO_FILENAME = \"who.csv\"\n",
    "    \n",
    "    def __init__(self, inputnodes, hiddennodes, outputnodes, learningrate):\n",
    "        self.inodes = inputnodes\n",
    "        self.hnodes = hiddennodes\n",
    "        self.onodes = outputnodes\n",
    "        self.lr = learningrate\n",
    "        \n",
    "        # weights inside the arrays are w_i_j, where link is from node i to node j in the next layer\n",
    "        # w11 w21\n",
    "        # w12 w22 etc\n",
    "        self.wih = numpy.random.normal(0.0, pow(self.hnodes, -0.5), (self.hnodes, self.inodes))\n",
    "        self.who = numpy.random.normal(0.0, pow(self.onodes, -0.5), (self.onodes, self.hnodes))\n",
    "        \n",
    "        # activation function is the sigmoid function (declared as a lambda so it's only called from one place) \n",
    "        self.activation_function = lambda x: scipy.special.expit(x)\n",
    "        self.inverse_activation_function = lambda x: scipy.special.logit(x)\n",
    "            \n",
    "        \n",
    "    def train(self, inputs_list, targets_list):\n",
    "        # convert inputs list to 2d array\n",
    "        inputs = numpy.array(inputs_list, ndmin=2).T\n",
    "        targets = numpy.array(targets_list, ndmin=2).T\n",
    "        \n",
    "        # calculate signals into hidden layer\n",
    "        hidden_inputs = numpy.dot(self.wih, inputs)\n",
    "        # calculate signals emerging from hidden layer\n",
    "        hidden_outputs = self.activation_function(hidden_inputs)\n",
    "        \n",
    "        # calculate signals into final output layer\n",
    "        final_inputs = numpy.dot(self.who, hidden_outputs)\n",
    "        # calculate singals emerging from final output layer\n",
    "        final_outputs = self.activation_function(final_inputs)\n",
    "        \n",
    "        # error is the (target - actual)\n",
    "        output_errors = targets - final_outputs\n",
    "        # hidden layer error is the output_errors, split weights, recombined at hidden nodes\n",
    "        hidden_errors = numpy.dot(self.who.T, output_errors)\n",
    "        \n",
    "        # update the weights for the links between the hidden and output layers\n",
    "        self.who += self.lr * numpy.dot((output_errors * final_outputs * (1.0 - final_outputs)), numpy.transpose(hidden_outputs))\n",
    "        \n",
    "        # update the weights for the links between the input and hidden layers\n",
    "        self.wih += self.lr * numpy.dot((hidden_errors * hidden_outputs * (1.0 - hidden_outputs)), numpy.transpose(inputs))\n",
    "    \n",
    "    \n",
    "    def query(self, input_list):\n",
    "        # convert inputs list to 2d array\n",
    "        inputs = numpy.array(input_list, ndmin=2).T\n",
    "        \n",
    "        # calculate signals into hidden layer\n",
    "        hidden_inputs = numpy.dot(self.wih, inputs)\n",
    "        # calculate the signals emerging from hidden layer\n",
    "        hidden_outputs = self.activation_function(hidden_inputs)\n",
    "        \n",
    "        # calculate signals into final output layer\n",
    "        final_outputs = numpy.dot(self.who, hidden_outputs)\n",
    "        # calculate the signals emerging from the output layer\n",
    "        final_outputs = self.activation_function(final_outputs)\n",
    "        \n",
    "        return final_outputs\n",
    "    \n",
    "    # backquery the neural network\n",
    "    # we'll use the same terminology to each item,\n",
    "    # eg target are the values at the right of the network, albeit used as input\n",
    "    # hidden_output is the signal to the right of the middle nodes\n",
    "    def backquery(self, targets_list):\n",
    "        # transpose the targets list to a vertical array\n",
    "        final_output = numpy.array(targets_list, ndmin=2).T\n",
    "        \n",
    "        # calculate the signal into the final output layer\n",
    "        final_inputs = self.inverse_activation_function(final_output)\n",
    "        \n",
    "        # calculate the signal out of the hidden layer\n",
    "        hidden_outputs = numpy.dot(self.who.T, final_inputs)\n",
    "        # scale them back to 0.01 to 0.99\n",
    "        hidden_outputs -= numpy.min(hidden_outputs)\n",
    "        hidden_outputs /= numpy.max(hidden_outputs)\n",
    "        hidden_outputs *= 0.98\n",
    "        hidden_outputs += 0.01\n",
    "        \n",
    "        # calculate the signal into the hidden layer\n",
    "        hidden_inputs = self.inverse_activation_function(hidden_outputs)\n",
    "        \n",
    "        # calculate the signal out of the input layer\n",
    "        inputs = numpy.dot(self.wih.T, hidden_inputs)\n",
    "        # scale the back to 0.01 to 0.99\n",
    "        inputs -= numpy.min(inputs)\n",
    "        inputs /= numpy.max(inputs)\n",
    "        inputs *= 0.98\n",
    "        inputs += 0.01\n",
    "        \n",
    "        return inputs\n",
    "    \n",
    "    \n",
    "    def save(self):\n",
    "        numpy.savetxt(neuralNetwork.WHO_FILENAME, self.who, delimiter=\",\")\n",
    "        numpy.savetxt(neuralNetwork.WIH_FILENAME, self.wih, delimiter=\",\")\n",
    "        print(\"Neural network saved\")\n",
    "    \n",
    "    def load(self):\n",
    "        self.who = numpy.genfromtxt(neuralNetwork.WHO_FILENAME, delimiter=\",\")\n",
    "        self.wih = numpy.genfromtxt(neuralNetwork.WIH_FILENAME, delimiter=\",\")\n",
    "        print(\"Neural network loaded\")"
   ]
  },
  {
   "cell_type": "code",
   "execution_count": 3,
   "metadata": {
    "collapsed": true
   },
   "outputs": [],
   "source": [
    "TRAIN_NETWORK = False\n",
    "TRAIN_NETWORK_WITH_ROTATED_VARIATIONS = False\n",
    "SAVE_NETWORK = False\n",
    "TEST_NETWORK = False\n",
    "TEST_SELF_CREATED_IMAGE = True\n",
    "BACKQUERY_NETWORK = True\n",
    "\n",
    "input_nodes = 784\n",
    "hidden_nodes = 200\n",
    "output_nodes = 10\n",
    "learning_rate = 0.01 # 0.2 SWEET SPOT: 0.1, 0.01 with rotated variations\n",
    "training_data_filepath = \"mnist_dataset/mnist_train_100.csv\"\n",
    "#training_data_filepath = \"mnist_dataset/mnist_train.csv\"\n",
    "test_data_filepath = \"mnist_dataset/mnist_test_10.csv\"\n",
    "#test_data_filepath = \"mnist_dataset/mnist_test.csv\"\n",
    "\n",
    "# create instance of neural network\n",
    "n = neuralNetwork(input_nodes, hidden_nodes, output_nodes, learning_rate)\n",
    "\n",
    "if TRAIN_NETWORK:\n",
    "    # load the mnist training data CSV file into a list\n",
    "    training_data_file = open(training_data_filepath, \"r\")\n",
    "    training_data_list = training_data_file.readlines()\n",
    "    training_data_file.close()\n",
    "\n",
    "    # train the neural network\n",
    "    # epochs is the number of times the training data set is used for training\n",
    "    epochs = 10 # 1 SWEET SPOT: 5, 10 with rotated variations\n",
    "\n",
    "    for e in range(epochs):\n",
    "        # go through all records in the training data set\n",
    "        for record in training_data_list:\n",
    "            # split the record by commas\n",
    "            all_values = record.split(\",\")\n",
    "            # scale and shift the inputs\n",
    "            inputs = (numpy.asfarray(all_values[1:]) / 255.0 * 0.99) + 0.01\n",
    "            # create the target output values (all 0.01, except the desired label which is 0.99)\n",
    "            targets = numpy.zeros(output_nodes) + 0.01\n",
    "            # all_values[0] is the target label for this record\n",
    "            targets[int(all_values[0])] = 0.99\n",
    "            n.train(inputs, targets)\n",
    "            \n",
    "            if TRAIN_NETWORK_WITH_ROTATED_VARIATIONS:\n",
    "                # create rotated variations\n",
    "                # rotated anticlockwise by 10 degrees\n",
    "                inputs_plus10_image = scipy.ndimage.rotate(inputs.reshape((28,28)), 10.0, cval=0.01, order=1, reshape=False)\n",
    "                n.train(inputs_plus10_image.reshape(784), targets)\n",
    "                # rotated clockwise by 10 degrees\n",
    "                inputs_minus10_image = scipy.ndimage.rotate(inputs.reshape((28,28)), -10.0, cval=0.01, order=1, reshape=False)\n",
    "                n.train(inputs_minus10_image.reshape(784), targets)"
   ]
  },
  {
   "cell_type": "code",
   "execution_count": 4,
   "metadata": {},
   "outputs": [],
   "source": [
    "if SAVE_NETWORK:\n",
    "    n.save()"
   ]
  },
  {
   "cell_type": "code",
   "execution_count": 5,
   "metadata": {},
   "outputs": [
    {
     "name": "stdout",
     "output_type": "stream",
     "text": [
      "Neural network loaded\n",
      "[[ 0.20497868]\n",
      " [ 0.00114656]\n",
      " [ 0.02325594]\n",
      " [ 0.07921041]\n",
      " [ 0.00160476]\n",
      " [ 0.00491801]\n",
      " [ 0.03525565]\n",
      " [ 0.1766442 ]\n",
      " [ 0.00249628]\n",
      " [ 0.11104171]]\n"
     ]
    },
    {
     "data": {
      "image/png": "[encoded data removed]",
      "text/plain": [
       "<matplotlib.figure.Figure at 0x86e3d09e80>"
      ]
     },
     "metadata": {},
     "output_type": "display_data"
    }
   ],
   "source": [
    "if TEST_SELF_CREATED_IMAGE:\n",
    "    # *** TEST A SELF CREATED IMAGE (GIMP) ***\n",
    "    # Need to run all above cells once to create neural network\n",
    "    n.load()\n",
    "\n",
    "    image = scipy.misc.imread(\"mnist_dataset/MyTestImage.png\", flatten=True)\n",
    "    image = scipy.misc.imresize(image, (28,28))\n",
    "\n",
    "    image = 255.0 - image.reshape(784)\n",
    "    image_array = numpy.asfarray(image).reshape((28,28))\n",
    "    matplotlib.pyplot.imshow(image_array, cmap=\"Greys\", interpolation=\"None\")\n",
    "\n",
    "    print(n.query((image / 255 * 0.99) + 0.01))"
   ]
  },
  {
   "cell_type": "code",
   "execution_count": 6,
   "metadata": {},
   "outputs": [
    {
     "name": "stdout",
     "output_type": "stream",
     "text": [
      "4\n"
     ]
    },
    {
     "data": {
      "text/plain": [
       "<matplotlib.image.AxesImage at 0x86e4046c88>"
      ]
     },
     "execution_count": 6,
     "metadata": {},
     "output_type": "execute_result"
    },
    {
     "data": {
      "image/png": "[encoded data removed]",
      "text/plain": [
       "<matplotlib.figure.Figure at 0x86e3d09f60>"
      ]
     },
     "metadata": {},
     "output_type": "display_data"
    }
   ],
   "source": [
    "# load the mnist test data CSV file into a list\n",
    "test_data_file = open(test_data_filepath, \"r\")\n",
    "test_data_list = test_data_file.readlines()\n",
    "test_data_file.close()\n",
    "\n",
    "# get the first record\n",
    "all_values = test_data_list[6].split(\",\")\n",
    "# print the label\n",
    "print(all_values[0])\n",
    "\n",
    "image_array = numpy.asfarray(all_values[1:]).reshape((28,28))\n",
    "matplotlib.pyplot.imshow(image_array, cmap=\"Greys\", interpolation=\"None\")"
   ]
  },
  {
   "cell_type": "code",
   "execution_count": 7,
   "metadata": {},
   "outputs": [
    {
     "data": {
      "text/plain": [
       "array([[  1.28525660e-03],\n",
       "       [  1.61976036e-02],\n",
       "       [  6.13311676e-03],\n",
       "       [  5.48525507e-04],\n",
       "       [  9.94567764e-01],\n",
       "       [  5.99301719e-03],\n",
       "       [  3.22350846e-03],\n",
       "       [  1.29165176e-02],\n",
       "       [  3.56647296e-02],\n",
       "       [  6.04087080e-03]])"
      ]
     },
     "execution_count": 7,
     "metadata": {},
     "output_type": "execute_result"
    }
   ],
   "source": [
    "n.query((numpy.asfarray(all_values[1:]) / 255.0 * 0.99) + 0.01)"
   ]
  },
  {
   "cell_type": "code",
   "execution_count": 8,
   "metadata": {},
   "outputs": [],
   "source": [
    "# test the neural network\n",
    "if TEST_NETWORK:\n",
    "    # scorecard for how well the network performs, initially empty\n",
    "    scorecard = []\n",
    "\n",
    "    # go through all the records in the test data set\n",
    "    for record in test_data_list:\n",
    "        # split the record by commas\n",
    "        all_values = record.split(\",\")\n",
    "        # correct answer is first value\n",
    "        correct_label = int(all_values[0])\n",
    "        #print(correct_label, \"correct label\")\n",
    "        # scale and shift the inputs\n",
    "        inputs = (numpy.asfarray(all_values[1:]) / 255.0 * 0.99) + 0.01\n",
    "        # query the network\n",
    "        outputs = n.query(inputs)\n",
    "        # the index of the highest value corresponds to the label\n",
    "        label = numpy.argmax(outputs)\n",
    "        #print(label, \"network's answer\")\n",
    "        # append correct or incorrect to list\n",
    "        if (label == correct_label):\n",
    "            # network's answer matches correct answer, add 1 to scorecard\n",
    "            scorecard.append(1)\n",
    "        else:\n",
    "            # network's answer doesn't match correct answer, add 0 to scorecard\n",
    "            scorecard.append(0)\n",
    "    \n",
    "    # calculate the performance score, the fraction of correct answers\n",
    "    scorecard_array = numpy.asarray(scorecard)\n",
    "    print(\"performance = \", scorecard_array.sum() / scorecard_array.size)"
   ]
  },
  {
   "cell_type": "code",
   "execution_count": 9,
   "metadata": {},
   "outputs": [
    {
     "name": "stdout",
     "output_type": "stream",
     "text": [
      "Neural network loaded\n",
      "[ 0.01  0.01  0.01  0.01  0.01  0.01  0.01  0.01  0.99  0.01]\n"
     ]
    },
    {
     "data": {
      "image/png": "[encoded data removed]",
      "text/plain": [
       "<matplotlib.figure.Figure at 0x86e3945550>"
      ]
     },
     "metadata": {},
     "output_type": "display_data"
    }
   ],
   "source": [
    "# run the network backwards: given a label, see what image it produces\n",
    "if BACKQUERY_NETWORK:\n",
    "    n.load()\n",
    "    \n",
    "    # label to test\n",
    "    label = 8\n",
    "    # create the output signals for this label\n",
    "    targets = numpy.zeros(output_nodes) + 0.01\n",
    "    # all_values[0] is the target label for this record\n",
    "    targets[label] = 0.99\n",
    "    print(targets)\n",
    "    \n",
    "    # get image data\n",
    "    image_data = n.backquery(targets)\n",
    "    \n",
    "    # plot image data\n",
    "    matplotlib.pyplot.imshow(image_data.reshape((28,28)), cmap=\"Greys\", interpolation=\"None\")"
   ]
  }
 ],
 "metadata": {
  "kernelspec": {
   "display_name": "Python 3",
   "language": "python",
   "name": "python3"
  },
  "language_info": {
   "codemirror_mode": {
    "name": "ipython",
    "version": 3
   },
   "file_extension": ".py",
   "mimetype": "text/x-python",
   "name": "python",
   "nbconvert_exporter": "python",
   "pygments_lexer": "ipython3",
   "version": "3.6.1"
  }
 },
 "nbformat": 4,
 "nbformat_minor": 2
}
